{
  "nbformat": 4,
  "nbformat_minor": 0,
  "metadata": {
    "colab": {
      "provenance": [],
      "authorship_tag": "ABX9TyPjbXOvZrlvswaq+vJBup5h",
      "include_colab_link": true
    },
    "kernelspec": {
      "name": "ir",
      "display_name": "R"
    },
    "language_info": {
      "name": "R"
    }
  },
  "cells": [
    {
      "cell_type": "markdown",
      "metadata": {
        "id": "view-in-github",
        "colab_type": "text"
      },
      "source": [
        "<a href=\"https://colab.research.google.com/github/ifeomai/curly-octo-r-stat-machine/blob/main/ica-stat-r.ipynb\" target=\"_parent\"><img src=\"https://colab.research.google.com/assets/colab-badge.svg\" alt=\"Open In Colab\"/></a>"
      ]
    },
    {
      "cell_type": "markdown",
      "source": [
        "# Q8 - White House Salries"
      ],
      "metadata": {
        "id": "KL_YM25gtRtr"
      }
    },
    {
      "cell_type": "code",
      "source": [
        "library(readxl)\n",
        "ds_salaries <- read_excel(\"/content/2010_White_House_Staff.xlsx\")"
      ],
      "metadata": {
        "id": "IZHOWItTdYJ0"
      },
      "execution_count": 25,
      "outputs": []
    },
    {
      "cell_type": "code",
      "source": [
        "summary(ds_salaries)"
      ],
      "metadata": {
        "colab": {
          "base_uri": "https://localhost:8080/",
          "height": 270
        },
        "id": "GwczA0xJew0H",
        "outputId": "58dbc383-eb44-4730-abdb-4dbcd26598d6"
      },
      "execution_count": 26,
      "outputs": [
        {
          "output_type": "display_data",
          "data": {
            "text/plain": [
              " Employee Name      Employee Status        Salary        Pay Basis        \n",
              " Length:469         Length:469         Min.   :     0   Length:469        \n",
              " Class :character   Class :character   1st Qu.: 45900   Class :character  \n",
              " Mode  :character   Mode  :character   Median : 66300   Mode  :character  \n",
              "                                       Mean   : 82721                     \n",
              "                                       3rd Qu.:113000                     \n",
              "                                       Max.   :179700                     \n",
              " Position Title    \n",
              " Length:469        \n",
              " Class :character  \n",
              " Mode  :character  \n",
              "                   \n",
              "                   \n",
              "                   "
            ]
          },
          "metadata": {}
        }
      ]
    },
    {
      "cell_type": "code",
      "source": [
        "range(ds_salaries$Salary)"
      ],
      "metadata": {
        "colab": {
          "base_uri": "https://localhost:8080/",
          "height": 34
        },
        "id": "7RLnObWQfPtZ",
        "outputId": "95f2c47d-19ee-4d0b-aebe-c5384f399888"
      },
      "execution_count": 27,
      "outputs": [
        {
          "output_type": "display_data",
          "data": {
            "text/html": [
              "<style>\n",
              ".list-inline {list-style: none; margin:0; padding: 0}\n",
              ".list-inline>li {display: inline-block}\n",
              ".list-inline>li:not(:last-child)::after {content: \"\\00b7\"; padding: 0 .5ex}\n",
              "</style>\n",
              "<ol class=list-inline><li>0</li><li>179700</li></ol>\n"
            ],
            "text/markdown": "1. 0\n2. 179700\n\n\n",
            "text/latex": "\\begin{enumerate*}\n\\item 0\n\\item 179700\n\\end{enumerate*}\n",
            "text/plain": [
              "[1]      0 179700"
            ]
          },
          "metadata": {}
        }
      ]
    },
    {
      "cell_type": "code",
      "source": [
        "sd(ds_salaries$Salary)"
      ],
      "metadata": {
        "colab": {
          "base_uri": "https://localhost:8080/",
          "height": 34
        },
        "id": "4FcJkH7xfa8X",
        "outputId": "38d753f3-70fe-40e4-f23a-3bc5ebf1fa3a"
      },
      "execution_count": 28,
      "outputs": [
        {
          "output_type": "display_data",
          "data": {
            "text/html": [
              "41589.433381281"
            ],
            "text/markdown": "41589.433381281",
            "text/latex": "41589.433381281",
            "text/plain": [
              "[1] 41589.43"
            ]
          },
          "metadata": {}
        }
      ]
    },
    {
      "cell_type": "code",
      "source": [
        "IQR(ds_salaries$Salary)"
      ],
      "metadata": {
        "colab": {
          "base_uri": "https://localhost:8080/",
          "height": 34
        },
        "id": "iZOilx7jfdJu",
        "outputId": "86e2a3b7-f7fe-48fb-a02b-befb616ff947"
      },
      "execution_count": 29,
      "outputs": [
        {
          "output_type": "display_data",
          "data": {
            "text/html": [
              "67100"
            ],
            "text/markdown": "67100",
            "text/latex": "67100",
            "text/plain": [
              "[1] 67100"
            ]
          },
          "metadata": {}
        }
      ]
    },
    {
      "cell_type": "code",
      "source": [
        "var(ds_salaries$Salary)"
      ],
      "metadata": {
        "colab": {
          "base_uri": "https://localhost:8080/",
          "height": 34
        },
        "id": "yflfaXyHffPg",
        "outputId": "c2583c94-e344-4203-99af-34e0ac3cf3c4"
      },
      "execution_count": 30,
      "outputs": [
        {
          "output_type": "display_data",
          "data": {
            "text/html": [
              "1729680968.97601"
            ],
            "text/markdown": "1729680968.97601",
            "text/latex": "1729680968.97601",
            "text/plain": [
              "[1] 1729680969"
            ]
          },
          "metadata": {}
        }
      ]
    },
    {
      "cell_type": "code",
      "source": [
        "#What is the mean salary\n",
        "print(paste(\"Mean: \",  mean(ds_salaries$Salary)))\n",
        "\n",
        "#What is the median of salary in the sample\n",
        "print(paste(\"Median: \",  median(ds_salaries$Salary)))\n",
        "\n",
        "#What is the min salary\n",
        "print(paste(\"Min Salary: \",  min(ds_salaries$Salary)))\n",
        "\n",
        "#What is the max salary\n",
        "print(paste(\"Max Salary: \",  max(ds_salaries$Salary)))\n",
        "\n",
        "#What is the variance of the salary\n",
        "print(paste(\"Variance: \",  var(ds_salaries$Salary)))\n",
        "\n",
        "#What is range of salaries are found in the sample\n",
        "print(\"Range: \")\n",
        "range(ds_salaries$Salary)\n",
        "\n",
        "#What are the default quartiles of salary (0, 25, 50, 75, 100)\n",
        "\n",
        "print(\"Quartile: \")\n",
        "quantile(ds_salaries$Salary)\n",
        "\n",
        "#What is the inter quartile range of salary\n",
        "\n",
        "print(paste(\"Inter Quartile Range: \",  IQR(ds_salaries$Salary)))\n",
        "\n",
        "#What is the standard deviation of salary\n",
        "print(paste(\"Standard Deviation: \",  sd(ds_salaries$Salary)))\n",
        "\n",
        "#Summarize salary\n",
        "\n",
        "print(\"Summary: \")\n",
        "summary(ds_salaries$Salary)"
      ],
      "metadata": {
        "colab": {
          "base_uri": "https://localhost:8080/",
          "height": 269
        },
        "id": "tnB7gKAipXsC",
        "outputId": "e706ff5c-0f72-4c5c-aabb-5e21cf7911d6"
      },
      "execution_count": 31,
      "outputs": [
        {
          "output_type": "stream",
          "name": "stdout",
          "text": [
            "[1] \"Mean:  82721.3368869936\"\n",
            "[1] \"Median:  66300\"\n",
            "[1] \"Min Salary:  0\"\n",
            "[1] \"Max Salary:  179700\"\n",
            "[1] \"Variance:  1729680968.97601\"\n",
            "[1] \"Range: \"\n"
          ]
        },
        {
          "output_type": "display_data",
          "data": {
            "text/html": [
              "<style>\n",
              ".list-inline {list-style: none; margin:0; padding: 0}\n",
              ".list-inline>li {display: inline-block}\n",
              ".list-inline>li:not(:last-child)::after {content: \"\\00b7\"; padding: 0 .5ex}\n",
              "</style>\n",
              "<ol class=list-inline><li>0</li><li>179700</li></ol>\n"
            ],
            "text/markdown": "1. 0\n2. 179700\n\n\n",
            "text/latex": "\\begin{enumerate*}\n\\item 0\n\\item 179700\n\\end{enumerate*}\n",
            "text/plain": [
              "[1]      0 179700"
            ]
          },
          "metadata": {}
        },
        {
          "output_type": "stream",
          "name": "stdout",
          "text": [
            "[1] \"Quartile: \"\n"
          ]
        },
        {
          "output_type": "display_data",
          "data": {
            "text/html": [
              "<style>\n",
              ".dl-inline {width: auto; margin:0; padding: 0}\n",
              ".dl-inline>dt, .dl-inline>dd {float: none; width: auto; display: inline-block}\n",
              ".dl-inline>dt::after {content: \":\\0020\"; padding-right: .5ex}\n",
              ".dl-inline>dt:not(:first-of-type) {padding-left: .5ex}\n",
              "</style><dl class=dl-inline><dt>0%</dt><dd>0</dd><dt>25%</dt><dd>45900</dd><dt>50%</dt><dd>66300</dd><dt>75%</dt><dd>113000</dd><dt>100%</dt><dd>179700</dd></dl>\n"
            ],
            "text/markdown": "0%\n:   025%\n:   4590050%\n:   6630075%\n:   113000100%\n:   179700\n\n",
            "text/latex": "\\begin{description*}\n\\item[0\\textbackslash{}\\%] 0\n\\item[25\\textbackslash{}\\%] 45900\n\\item[50\\textbackslash{}\\%] 66300\n\\item[75\\textbackslash{}\\%] 113000\n\\item[100\\textbackslash{}\\%] 179700\n\\end{description*}\n",
            "text/plain": [
              "    0%    25%    50%    75%   100% \n",
              "     0  45900  66300 113000 179700 "
            ]
          },
          "metadata": {}
        },
        {
          "output_type": "stream",
          "name": "stdout",
          "text": [
            "[1] \"Inter Quartile Range:  67100\"\n",
            "[1] \"Standard Deviation:  41589.433381281\"\n",
            "[1] \"Summary: \"\n"
          ]
        },
        {
          "output_type": "display_data",
          "data": {
            "text/plain": [
              "   Min. 1st Qu.  Median    Mean 3rd Qu.    Max. \n",
              "      0   45900   66300   82721  113000  179700 "
            ]
          },
          "metadata": {}
        }
      ]
    },
    {
      "cell_type": "code",
      "source": [
        "boxplot(ds_salaries$Salary, xlab =\"Salary\")"
      ],
      "metadata": {
        "colab": {
          "base_uri": "https://localhost:8080/",
          "height": 437
        },
        "id": "U9is6Ooutfm2",
        "outputId": "4e21908b-ac2d-47a5-be3d-26e7d22be33e"
      },
      "execution_count": 32,
      "outputs": [
        {
          "output_type": "display_data",
          "data": {
            "text/plain": [
              "plot without title"
            ],
            "image/png": "[encoded data removed]"
          },
          "metadata": {
            "image/png": {
              "width": 420,
              "height": 420
            }
          }
        }
      ]
    },
    {
      "cell_type": "code",
      "source": [
        "hist(ds_salaries$Salary)"
      ],
      "metadata": {
        "colab": {
          "base_uri": "https://localhost:8080/",
          "height": 437
        },
        "id": "DceBVL9apt4m",
        "outputId": "4d89de1e-9115-457d-f5b9-d48168456246"
      },
      "execution_count": 33,
      "outputs": [
        {
          "output_type": "display_data",
          "data": {
            "text/plain": [
              "Plot with title “Histogram of ds_salaries$Salary”"
            ],
            "image/png": "[encoded data removed]"
          },
          "metadata": {
            "image/png": {
              "width": 420,
              "height": 420
            }
          }
        }
      ]
    },
    {
      "cell_type": "markdown",
      "source": [
        "# Q9 "
      ],
      "metadata": {
        "id": "ryO4V4Detgy-"
      }
    },
    {
      "cell_type": "code",
      "source": [
        "pnorm(0.5, mean=1.9, sd=2, lower.tail=TRUE)"
      ],
      "metadata": {
        "colab": {
          "base_uri": "https://localhost:8080/",
          "height": 34
        },
        "id": "oU6CCcHs_rTG",
        "outputId": "0e298e4c-806c-43f7-8555-b0b463bee599"
      },
      "execution_count": 34,
      "outputs": [
        {
          "output_type": "display_data",
          "data": {
            "text/html": [
              "0.241963652223073"
            ],
            "text/markdown": "0.241963652223073",
            "text/latex": "0.241963652223073",
            "text/plain": [
              "[1] 0.2419637"
            ]
          },
          "metadata": {}
        }
      ]
    },
    {
      "cell_type": "markdown",
      "source": [
        "# Q11: CPU Speed "
      ],
      "metadata": {
        "id": "KiIfnBNkpqYV"
      }
    },
    {
      "cell_type": "code",
      "source": [
        "# One Sampte t test \n",
        "# http://www.sthda.com/english/wiki/one-sample-t-test-in-r"
      ],
      "metadata": {
        "id": "5bRGwRkdE42Y"
      },
      "execution_count": 35,
      "outputs": []
    },
    {
      "cell_type": "code",
      "source": [
        "# Normal Distribution with Mean=2.1 Standard Deviation = 0.4\n",
        "# Use one Sample T test to find the z value\n",
        "clock_speed <- c(2.5,1.7,2.9,2.7,1.4,1.9,1.3,1.9,2.8,2.2,2.4, 1.7, 1.8, 2.2, 2.2,1.9, 2.7, 3.3, 1.9, 2.1)\n",
        "\n",
        "summary(clock_speed)\n",
        "t.test(clock_speed, mu=2.1)"
      ],
      "metadata": {
        "colab": {
          "base_uri": "https://localhost:8080/",
          "height": 252
        },
        "id": "sQY7LMl6DJuI",
        "outputId": "922e747c-c67b-4e15-fa9f-34bd5514376a"
      },
      "execution_count": 36,
      "outputs": [
        {
          "output_type": "display_data",
          "data": {
            "text/plain": [
              "   Min. 1st Qu.  Median    Mean 3rd Qu.    Max. \n",
              "  1.300   1.875   2.150   2.175   2.550   3.300 "
            ]
          },
          "metadata": {}
        },
        {
          "output_type": "display_data",
          "data": {
            "text/plain": [
              "\n",
              "\tOne Sample t-test\n",
              "\n",
              "data:  clock_speed\n",
              "t = 0.64377, df = 19, p-value = 0.5274\n",
              "alternative hypothesis: true mean is not equal to 2.1\n",
              "95 percent confidence interval:\n",
              " 1.931162 2.418838\n",
              "sample estimates:\n",
              "mean of x \n",
              "    2.175 \n"
            ]
          },
          "metadata": {}
        }
      ]
    },
    {
      "cell_type": "code",
      "source": [
        "install.packages(\"lsr\")\n",
        "library(\"lsr\")"
      ],
      "metadata": {
        "id": "qRhK6-_pp_pc",
        "outputId": "f858a6c0-9138-4f44-f989-226e57732743",
        "colab": {
          "base_uri": "https://localhost:8080/"
        }
      },
      "execution_count": 37,
      "outputs": [
        {
          "output_type": "stream",
          "name": "stderr",
          "text": [
            "Installing package into ‘/usr/local/lib/R/site-library’\n",
            "(as ‘lib’ is unspecified)\n",
            "\n"
          ]
        }
      ]
    },
    {
      "cell_type": "code",
      "source": [
        "oneSampleTTest( x=clock_speed, mu=2.1 )"
      ],
      "metadata": {
        "id": "H6O9wb6RqMcg",
        "outputId": "98427c0a-cfdd-4ee0-92a2-e789bc3fd9a6",
        "colab": {
          "base_uri": "https://localhost:8080/",
          "height": 415
        }
      },
      "execution_count": 38,
      "outputs": [
        {
          "output_type": "display_data",
          "data": {
            "text/plain": [
              "\n",
              "   One sample t-test \n",
              "\n",
              "Data variable:   clock_speed \n",
              "\n",
              "Descriptive statistics: \n",
              "            clock_speed\n",
              "   mean           2.175\n",
              "   std dev.       0.521\n",
              "\n",
              "Hypotheses: \n",
              "   null:        population mean equals 2.1 \n",
              "   alternative: population mean not equal to 2.1 \n",
              "\n",
              "Test results: \n",
              "   t-statistic:  0.644 \n",
              "   degrees of freedom:  19 \n",
              "   p-value:  0.527 \n",
              "\n",
              "Other information: \n",
              "   two-sided 95% confidence interval:  [1.931, 2.419] \n",
              "   estimated effect size (Cohen's d):  0.144 \n"
            ]
          },
          "metadata": {}
        }
      ]
    },
    {
      "cell_type": "markdown",
      "source": [
        "# Q12"
      ],
      "metadata": {
        "id": "dISP8hWivvn2"
      }
    },
    {
      "cell_type": "code",
      "source": [
        "# to run sample.split, this lib is needed\n",
        "install.packages(\"caTools\")\n",
        "library(caTools)"
      ],
      "metadata": {
        "colab": {
          "base_uri": "https://localhost:8080/"
        },
        "id": "V1Ey3qwBT0SF",
        "outputId": "afa59757-0abc-42cc-e252-c98c59698741"
      },
      "execution_count": 39,
      "outputs": [
        {
          "output_type": "stream",
          "name": "stderr",
          "text": [
            "Installing package into ‘/usr/local/lib/R/site-library’\n",
            "(as ‘lib’ is unspecified)\n",
            "\n"
          ]
        }
      ]
    },
    {
      "cell_type": "code",
      "source": [
        "ds_boxOffice <-  read.csv(\"/content/boxOffice.csv\")\n",
        "# check the head to see the key variable names\n",
        "head(ds_boxOffice,2)"
      ],
      "metadata": {
        "colab": {
          "base_uri": "https://localhost:8080/",
          "height": 160
        },
        "id": "NQD52M1RUHlg",
        "outputId": "9870d320-f6f7-4cb5-92fe-6cce4e01ee59"
      },
      "execution_count": 40,
      "outputs": [
        {
          "output_type": "display_data",
          "data": {
            "text/html": [
              "<table class=\"dataframe\">\n",
              "<caption>A data.frame: 2 × 6</caption>\n",
              "<thead>\n",
              "\t<tr><th></th><th scope=col>Oscar</th><th scope=col>BoxOffice</th><th scope=col>Budget</th><th scope=col>Country</th><th scope=col>Critics</th><th scope=col>Length</th></tr>\n",
              "\t<tr><th></th><th scope=col>&lt;int&gt;</th><th scope=col>&lt;dbl&gt;</th><th scope=col>&lt;dbl&gt;</th><th scope=col>&lt;chr&gt;</th><th scope=col>&lt;dbl&gt;</th><th scope=col>&lt;int&gt;</th></tr>\n",
              "</thead>\n",
              "<tbody>\n",
              "\t<tr><th scope=row>1</th><td>0</td><td>69.03</td><td>26.89</td><td>Europe</td><td>25.8</td><td> 99</td></tr>\n",
              "\t<tr><th scope=row>2</th><td>0</td><td>15.22</td><td>20.77</td><td>India </td><td>10.0</td><td>125</td></tr>\n",
              "</tbody>\n",
              "</table>\n"
            ],
            "text/markdown": "\nA data.frame: 2 × 6\n\n| <!--/--> | Oscar &lt;int&gt; | BoxOffice &lt;dbl&gt; | Budget &lt;dbl&gt; | Country &lt;chr&gt; | Critics &lt;dbl&gt; | Length &lt;int&gt; |\n|---|---|---|---|---|---|---|\n| 1 | 0 | 69.03 | 26.89 | Europe | 25.8 |  99 |\n| 2 | 0 | 15.22 | 20.77 | India  | 10.0 | 125 |\n\n",
            "text/latex": "A data.frame: 2 × 6\n\\begin{tabular}{r|llllll}\n  & Oscar & BoxOffice & Budget & Country & Critics & Length\\\\\n  & <int> & <dbl> & <dbl> & <chr> & <dbl> & <int>\\\\\n\\hline\n\t1 & 0 & 69.03 & 26.89 & Europe & 25.8 &  99\\\\\n\t2 & 0 & 15.22 & 20.77 & India  & 10.0 & 125\\\\\n\\end{tabular}\n",
            "text/plain": [
              "  Oscar BoxOffice Budget Country Critics Length\n",
              "1 0     69.03     26.89  Europe  25.8     99   \n",
              "2 0     15.22     20.77  India   10.0    125   "
            ]
          },
          "metadata": {}
        }
      ]
    },
    {
      "cell_type": "code",
      "source": [
        "set.seed(48)\n",
        "sample = sample.split(ds_boxOffice$Budget ,SplitRatio = .8)\n",
        "train = subset(ds_boxOffice, sample == TRUE)\n",
        "test = subset(ds_boxOffice, sample == FALSE)"
      ],
      "metadata": {
        "id": "XxSH50svNVyi"
      },
      "execution_count": 41,
      "outputs": []
    },
    {
      "cell_type": "code",
      "source": [
        "trainModel = glm(Oscar ~ Budget, family = binomial (link = \"logit\"), data= train)\n",
        "summary(trainModel)"
      ],
      "metadata": {
        "colab": {
          "base_uri": "https://localhost:8080/",
          "height": 433
        },
        "id": "4x1IGpDWU0vf",
        "outputId": "7ae6a21b-e752-4485-fdae-952994c7364b"
      },
      "execution_count": 42,
      "outputs": [
        {
          "output_type": "display_data",
          "data": {
            "text/plain": [
              "\n",
              "Call:\n",
              "glm(formula = Oscar ~ Budget, family = binomial(link = \"logit\"), \n",
              "    data = train)\n",
              "\n",
              "Deviance Residuals: \n",
              "    Min       1Q   Median       3Q      Max  \n",
              "-0.9060  -0.8806  -0.8598   1.4912   1.5385  \n",
              "\n",
              "Coefficients:\n",
              "             Estimate Std. Error z value Pr(>|z|)   \n",
              "(Intercept) -0.838252   0.259770  -3.227  0.00125 **\n",
              "Budget       0.001264   0.003996   0.316  0.75174   \n",
              "---\n",
              "Signif. codes:  0 ‘***’ 0.001 ‘**’ 0.01 ‘*’ 0.05 ‘.’ 0.1 ‘ ’ 1\n",
              "\n",
              "(Dispersion parameter for binomial family taken to be 1)\n",
              "\n",
              "    Null deviance: 299.68  on 239  degrees of freedom\n",
              "Residual deviance: 299.58  on 238  degrees of freedom\n",
              "AIC: 303.58\n",
              "\n",
              "Number of Fisher Scoring iterations: 4\n"
            ]
          },
          "metadata": {}
        }
      ]
    }
  ]
}