{
  "nbformat": 4,
  "nbformat_minor": 0,
  "metadata": {
    "colab": {
      "provenance": [],
      "authorship_tag": "ABX9TyN9dTJWCCaWnbvC/qOfAJn+",
      "include_colab_link": true
    },
    "kernelspec": {
      "name": "ir",
      "display_name": "R"
    },
    "language_info": {
      "name": "R"
    }
  },
  "cells": [
    {
      "cell_type": "markdown",
      "metadata": {
        "id": "view-in-github",
        "colab_type": "text"
      },
      "source": [
        "<a href=\"https://colab.research.google.com/github/ifeomai/curly-octo-r-stat-machine/blob/main/white-house-salary.ipynb\" target=\"_parent\"><img src=\"https://colab.research.google.com/assets/colab-badge.svg\" alt=\"Open In Colab\"/></a>"
      ]
    },
    {
      "cell_type": "code",
      "execution_count": 2,
      "metadata": {
        "id": "CNwViQ5daf0J",
        "outputId": "639dc4d1-6811-4b12-bcd8-d87fb00aee63",
        "colab": {
          "base_uri": "https://localhost:8080/",
          "height": 86
        }
      },
      "outputs": [
        {
          "output_type": "display_data",
          "data": {
            "text/html": [
              "'R version 4.2.2 Patched (2022-11-10 r83330)'"
            ],
            "text/markdown": "'R version 4.2.2 Patched (2022-11-10 r83330)'",
            "text/latex": "'R version 4.2.2 Patched (2022-11-10 r83330)'",
            "text/plain": [
              "[1] \"R version 4.2.2 Patched (2022-11-10 r83330)\""
            ]
          },
          "metadata": {}
        },
        {
          "output_type": "stream",
          "name": "stderr",
          "text": [
            "Installing package into ‘/usr/local/lib/R/site-library’\n",
            "(as ‘lib’ is unspecified)\n",
            "\n"
          ]
        }
      ],
      "source": [
        "R.version.string\n",
        "install.packages(\"googledrive\")\n",
        "library(\"googledrive\")"
      ]
    },
    {
      "cell_type": "code",
      "source": [
        "library(readxl)\n",
        "ds_salaries <- read_excel(\"/content/2010_White_House_Staff.xlsx\")"
      ],
      "metadata": {
        "id": "IZHOWItTdYJ0"
      },
      "execution_count": 3,
      "outputs": []
    },
    {
      "cell_type": "code",
      "source": [
        "summary(ds_salaries)"
      ],
      "metadata": {
        "id": "GwczA0xJew0H",
        "outputId": "666559f5-78f6-4494-b723-2bd65b36329b",
        "colab": {
          "base_uri": "https://localhost:8080/",
          "height": 260
        }
      },
      "execution_count": 4,
      "outputs": [
        {
          "output_type": "display_data",
          "data": {
            "text/plain": [
              " Employee Name      Employee Status        Salary        Pay Basis        \n",
              " Length:469         Length:469         Min.   :     0   Length:469        \n",
              " Class :character   Class :character   1st Qu.: 45900   Class :character  \n",
              " Mode  :character   Mode  :character   Median : 66300   Mode  :character  \n",
              "                                       Mean   : 82721                     \n",
              "                                       3rd Qu.:113000                     \n",
              "                                       Max.   :179700                     \n",
              " Position Title    \n",
              " Length:469        \n",
              " Class :character  \n",
              " Mode  :character  \n",
              "                   \n",
              "                   \n",
              "                   "
            ]
          },
          "metadata": {}
        }
      ]
    },
    {
      "cell_type": "code",
      "source": [
        "range(ds_salaries$Salary)"
      ],
      "metadata": {
        "id": "7RLnObWQfPtZ",
        "outputId": "4bf46d9d-a7d3-4bec-9518-0abe06748bb4",
        "colab": {
          "base_uri": "https://localhost:8080/",
          "height": 34
        }
      },
      "execution_count": 6,
      "outputs": [
        {
          "output_type": "display_data",
          "data": {
            "text/html": [
              "<style>\n",
              ".list-inline {list-style: none; margin:0; padding: 0}\n",
              ".list-inline>li {display: inline-block}\n",
              ".list-inline>li:not(:last-child)::after {content: \"\\00b7\"; padding: 0 .5ex}\n",
              "</style>\n",
              "<ol class=list-inline><li>0</li><li>179700</li></ol>\n"
            ],
            "text/markdown": "1. 0\n2. 179700\n\n\n",
            "text/latex": "\\begin{enumerate*}\n\\item 0\n\\item 179700\n\\end{enumerate*}\n",
            "text/plain": [
              "[1]      0 179700"
            ]
          },
          "metadata": {}
        }
      ]
    },
    {
      "cell_type": "code",
      "source": [
        "sd(ds_salaries$Salary)"
      ],
      "metadata": {
        "id": "4FcJkH7xfa8X",
        "outputId": "8e2d9d06-db6a-4769-bf60-449eb083eb62",
        "colab": {
          "base_uri": "https://localhost:8080/",
          "height": 34
        }
      },
      "execution_count": 7,
      "outputs": [
        {
          "output_type": "display_data",
          "data": {
            "text/html": [
              "41589.433381281"
            ],
            "text/markdown": "41589.433381281",
            "text/latex": "41589.433381281",
            "text/plain": [
              "[1] 41589.43"
            ]
          },
          "metadata": {}
        }
      ]
    },
    {
      "cell_type": "code",
      "source": [
        "IQR(ds_salaries$Salary)"
      ],
      "metadata": {
        "id": "iZOilx7jfdJu",
        "outputId": "7efdbd55-9761-4eaf-8635-63df1d8506cb",
        "colab": {
          "base_uri": "https://localhost:8080/",
          "height": 34
        }
      },
      "execution_count": 9,
      "outputs": [
        {
          "output_type": "display_data",
          "data": {
            "text/html": [
              "67100"
            ],
            "text/markdown": "67100",
            "text/latex": "67100",
            "text/plain": [
              "[1] 67100"
            ]
          },
          "metadata": {}
        }
      ]
    },
    {
      "cell_type": "code",
      "source": [
        "var(ds_salaries$Salary)"
      ],
      "metadata": {
        "id": "yflfaXyHffPg",
        "outputId": "08bf16ce-b125-411f-b390-1592d69f6985",
        "colab": {
          "base_uri": "https://localhost:8080/",
          "height": 34
        }
      },
      "execution_count": 10,
      "outputs": [
        {
          "output_type": "display_data",
          "data": {
            "text/html": [
              "1729680968.97601"
            ],
            "text/markdown": "1729680968.97601",
            "text/latex": "1729680968.97601",
            "text/plain": [
              "[1] 1729680969"
            ]
          },
          "metadata": {}
        }
      ]
    }
  ]
}