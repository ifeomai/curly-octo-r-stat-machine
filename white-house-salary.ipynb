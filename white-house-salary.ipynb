{
  "nbformat": 4,
  "nbformat_minor": 0,
  "metadata": {
    "colab": {
      "provenance": [],
      "authorship_tag": "ABX9TyOjHiHY3gPb+wMbm+g+Hw/X",
      "include_colab_link": true
    },
    "kernelspec": {
      "name": "ir",
      "display_name": "R"
    },
    "language_info": {
      "name": "R"
    }
  },
  "cells": [
    {
      "cell_type": "markdown",
      "metadata": {
        "id": "view-in-github",
        "colab_type": "text"
      },
      "source": [
        "<a href=\"https://colab.research.google.com/github/ifeomai/curly-octo-r-stat-machine/blob/main/white-house-salary.ipynb\" target=\"_parent\"><img src=\"https://colab.research.google.com/assets/colab-badge.svg\" alt=\"Open In Colab\"/></a>"
      ]
    },
    {
      "cell_type": "code",
      "execution_count": 2,
      "metadata": {
        "id": "CNwViQ5daf0J",
        "colab": {
          "base_uri": "https://localhost:8080/",
          "height": 86
        },
        "outputId": "639dc4d1-6811-4b12-bcd8-d87fb00aee63"
      },
      "outputs": [
        {
          "output_type": "display_data",
          "data": {
            "text/html": [
              "'R version 4.2.2 Patched (2022-11-10 r83330)'"
            ],
            "text/markdown": "'R version 4.2.2 Patched (2022-11-10 r83330)'",
            "text/latex": "'R version 4.2.2 Patched (2022-11-10 r83330)'",
            "text/plain": [
              "[1] \"R version 4.2.2 Patched (2022-11-10 r83330)\""
            ]
          },
          "metadata": {}
        },
        {
          "output_type": "stream",
          "name": "stderr",
          "text": [
            "Installing package into ‘/usr/local/lib/R/site-library’\n",
            "(as ‘lib’ is unspecified)\n",
            "\n"
          ]
        }
      ],
      "source": [
        "R.version.string\n",
        "install.packages(\"googledrive\")\n",
        "library(\"googledrive\")"
      ]
    },
    {
      "cell_type": "code",
      "source": [
        "library(readxl)\n",
        "ds_salaries <- read_excel(\"/content/2010_White_House_Staff.xlsx\")"
      ],
      "metadata": {
        "id": "IZHOWItTdYJ0"
      },
      "execution_count": 3,
      "outputs": []
    },
    {
      "cell_type": "code",
      "source": [
        "summary(ds_salaries)"
      ],
      "metadata": {
        "colab": {
          "base_uri": "https://localhost:8080/",
          "height": 260
        },
        "id": "GwczA0xJew0H",
        "outputId": "666559f5-78f6-4494-b723-2bd65b36329b"
      },
      "execution_count": 4,
      "outputs": [
        {
          "output_type": "display_data",
          "data": {
            "text/plain": [
              " Employee Name      Employee Status        Salary        Pay Basis        \n",
              " Length:469         Length:469         Min.   :     0   Length:469        \n",
              " Class :character   Class :character   1st Qu.: 45900   Class :character  \n",
              " Mode  :character   Mode  :character   Median : 66300   Mode  :character  \n",
              "                                       Mean   : 82721                     \n",
              "                                       3rd Qu.:113000                     \n",
              "                                       Max.   :179700                     \n",
              " Position Title    \n",
              " Length:469        \n",
              " Class :character  \n",
              " Mode  :character  \n",
              "                   \n",
              "                   \n",
              "                   "
            ]
          },
          "metadata": {}
        }
      ]
    },
    {
      "cell_type": "code",
      "source": [
        "range(ds_salaries$Salary)"
      ],
      "metadata": {
        "colab": {
          "base_uri": "https://localhost:8080/",
          "height": 34
        },
        "id": "7RLnObWQfPtZ",
        "outputId": "4bf46d9d-a7d3-4bec-9518-0abe06748bb4"
      },
      "execution_count": 6,
      "outputs": [
        {
          "output_type": "display_data",
          "data": {
            "text/html": [
              "<style>\n",
              ".list-inline {list-style: none; margin:0; padding: 0}\n",
              ".list-inline>li {display: inline-block}\n",
              ".list-inline>li:not(:last-child)::after {content: \"\\00b7\"; padding: 0 .5ex}\n",
              "</style>\n",
              "<ol class=list-inline><li>0</li><li>179700</li></ol>\n"
            ],
            "text/markdown": "1. 0\n2. 179700\n\n\n",
            "text/latex": "\\begin{enumerate*}\n\\item 0\n\\item 179700\n\\end{enumerate*}\n",
            "text/plain": [
              "[1]      0 179700"
            ]
          },
          "metadata": {}
        }
      ]
    },
    {
      "cell_type": "code",
      "source": [
        "sd(ds_salaries$Salary)"
      ],
      "metadata": {
        "colab": {
          "base_uri": "https://localhost:8080/",
          "height": 34
        },
        "id": "4FcJkH7xfa8X",
        "outputId": "8e2d9d06-db6a-4769-bf60-449eb083eb62"
      },
      "execution_count": 7,
      "outputs": [
        {
          "output_type": "display_data",
          "data": {
            "text/html": [
              "41589.433381281"
            ],
            "text/markdown": "41589.433381281",
            "text/latex": "41589.433381281",
            "text/plain": [
              "[1] 41589.43"
            ]
          },
          "metadata": {}
        }
      ]
    },
    {
      "cell_type": "code",
      "source": [
        "IQR(ds_salaries$Salary)"
      ],
      "metadata": {
        "colab": {
          "base_uri": "https://localhost:8080/",
          "height": 34
        },
        "id": "iZOilx7jfdJu",
        "outputId": "7efdbd55-9761-4eaf-8635-63df1d8506cb"
      },
      "execution_count": 9,
      "outputs": [
        {
          "output_type": "display_data",
          "data": {
            "text/html": [
              "67100"
            ],
            "text/markdown": "67100",
            "text/latex": "67100",
            "text/plain": [
              "[1] 67100"
            ]
          },
          "metadata": {}
        }
      ]
    },
    {
      "cell_type": "code",
      "source": [
        "var(ds_salaries$Salary)"
      ],
      "metadata": {
        "colab": {
          "base_uri": "https://localhost:8080/",
          "height": 34
        },
        "id": "yflfaXyHffPg",
        "outputId": "08bf16ce-b125-411f-b390-1592d69f6985"
      },
      "execution_count": 10,
      "outputs": [
        {
          "output_type": "display_data",
          "data": {
            "text/html": [
              "1729680968.97601"
            ],
            "text/markdown": "1729680968.97601",
            "text/latex": "1729680968.97601",
            "text/plain": [
              "[1] 1729680969"
            ]
          },
          "metadata": {}
        }
      ]
    },
    {
      "cell_type": "code",
      "source": [
        "#What is the mean salary\n",
        "print(paste(\"Mean: \",  mean(ds_salaries$Salary)))\n",
        "\n",
        "#What is the standard deviation of salary in the sample\n",
        "print(paste(\"Standard Deviation: \",  sd(ds_salaries$Salary)))\n",
        "\n",
        "#What is the min salary\n",
        "print(paste(\"Min Salary: \",  min(ds_salaries$Salary)))\n",
        "\n",
        "#What is the max salary\n",
        "print(paste(\"Max Salary: \",  max(ds_salaries$Salary)))\n",
        "\n",
        "#What is range of salaries are found in the sample\n",
        "print(\"Range: \")\n",
        "range(ds_salaries$Salary)\n",
        "\n",
        "#What are the default quantiles of salary (0, 25, 50, 75, 100)\n",
        "print(\"Quantitle: \")\n",
        "quantile(ds_salaries$Salary)\n",
        "\n",
        "#Summarize salary\n",
        "summary(ds_salaries$Salary)"
      ],
      "metadata": {
        "id": "tnB7gKAipXsC",
        "outputId": "3389f7e3-41d5-42dc-a0d8-950f5403a88e",
        "colab": {
          "base_uri": "https://localhost:8080/",
          "height": 191
        }
      },
      "execution_count": 20,
      "outputs": [
        {
          "output_type": "stream",
          "name": "stdout",
          "text": [
            "[1] \"Mean:  82721.3368869936\"\n",
            "[1] \"Standard Deviation:  41589.433381281\"\n",
            "[1] \"Min Salary:  0\"\n",
            "[1] \"Max Salary:  179700\"\n",
            "[1] \"Range: \"\n"
          ]
        },
        {
          "output_type": "display_data",
          "data": {
            "text/html": [
              "<style>\n",
              ".list-inline {list-style: none; margin:0; padding: 0}\n",
              ".list-inline>li {display: inline-block}\n",
              ".list-inline>li:not(:last-child)::after {content: \"\\00b7\"; padding: 0 .5ex}\n",
              "</style>\n",
              "<ol class=list-inline><li>0</li><li>179700</li></ol>\n"
            ],
            "text/markdown": "1. 0\n2. 179700\n\n\n",
            "text/latex": "\\begin{enumerate*}\n\\item 0\n\\item 179700\n\\end{enumerate*}\n",
            "text/plain": [
              "[1]      0 179700"
            ]
          },
          "metadata": {}
        },
        {
          "output_type": "stream",
          "name": "stdout",
          "text": [
            "[1] \"Quantitle: \"\n"
          ]
        },
        {
          "output_type": "display_data",
          "data": {
            "text/html": [
              "<style>\n",
              ".dl-inline {width: auto; margin:0; padding: 0}\n",
              ".dl-inline>dt, .dl-inline>dd {float: none; width: auto; display: inline-block}\n",
              ".dl-inline>dt::after {content: \":\\0020\"; padding-right: .5ex}\n",
              ".dl-inline>dt:not(:first-of-type) {padding-left: .5ex}\n",
              "</style><dl class=dl-inline><dt>0%</dt><dd>0</dd><dt>25%</dt><dd>45900</dd><dt>50%</dt><dd>66300</dd><dt>75%</dt><dd>113000</dd><dt>100%</dt><dd>179700</dd></dl>\n"
            ],
            "text/markdown": "0%\n:   025%\n:   4590050%\n:   6630075%\n:   113000100%\n:   179700\n\n",
            "text/latex": "\\begin{description*}\n\\item[0\\textbackslash{}\\%] 0\n\\item[25\\textbackslash{}\\%] 45900\n\\item[50\\textbackslash{}\\%] 66300\n\\item[75\\textbackslash{}\\%] 113000\n\\item[100\\textbackslash{}\\%] 179700\n\\end{description*}\n",
            "text/plain": [
              "    0%    25%    50%    75%   100% \n",
              "     0  45900  66300 113000 179700 "
            ]
          },
          "metadata": {}
        },
        {
          "output_type": "display_data",
          "data": {
            "text/plain": [
              "   Min. 1st Qu.  Median    Mean 3rd Qu.    Max. \n",
              "      0   45900   66300   82721  113000  179700 "
            ]
          },
          "metadata": {}
        }
      ]
    },
    {
      "cell_type": "code",
      "source": [
        "boxplot(ds_salaries$Salary)"
      ],
      "metadata": {
        "id": "U9is6Ooutfm2",
        "outputId": "6eee3a7b-0f77-4db9-f9d2-9181f71bbb02",
        "colab": {
          "base_uri": "https://localhost:8080/",
          "height": 437
        }
      },
      "execution_count": 21,
      "outputs": [
        {
          "output_type": "display_data",
          "data": {
            "text/plain": [
              "plot without title"
            ],
            "image/png": "[encoded data removed]"
          },
          "metadata": {
            "image/png": {
              "width": 420,
              "height": 420
            }
          }
        }
      ]
    },
    {
      "cell_type": "code",
      "source": [
        "hist(ds_salaries$Salary)"
      ],
      "metadata": {
        "id": "DceBVL9apt4m",
        "outputId": "b54ef7ff-bbd6-44df-df6c-c340d7a9d740",
        "colab": {
          "base_uri": "https://localhost:8080/",
          "height": 437
        }
      },
      "execution_count": 22,
      "outputs": [
        {
          "output_type": "display_data",
          "data": {
            "text/plain": [
              "Plot with title “Histogram of ds_salaries$Salary”"
            ],
            "image/png": "[encoded data removed]"
          },
          "metadata": {
            "image/png": {
              "width": 420,
              "height": 420
            }
          }
        }
      ]
    }
  ]
}